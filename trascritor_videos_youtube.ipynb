{
  "nbformat": 4,
  "nbformat_minor": 0,
  "metadata": {
    "colab": {
      "provenance": [],
      "gpuType": "T4",
      "include_colab_link": true
    },
    "kernelspec": {
      "name": "python3",
      "display_name": "Python 3"
    },
    "language_info": {
      "name": "python"
    },
    "accelerator": "GPU"
  },
  "cells": [
    {
      "cell_type": "markdown",
      "metadata": {
        "id": "view-in-github",
        "colab_type": "text"
      },
      "source": [
        "<a href=\"https://colab.research.google.com/github/snifferchess/4thEdition/blob/master/trascritor_videos_youtube.ipynb\" target=\"_parent\"><img src=\"https://colab.research.google.com/assets/colab-badge.svg\" alt=\"Open In Colab\"/></a>"
      ]
    },
    {
      "cell_type": "markdown",
      "source": [
        "Notebook Para Transcrever Vídeos Do YouTube.<p>\n",
        "Criação Daniel Dias da Comunidade Sandeco https://www.youtube.com/@canalsandeco<p>\n",
        "Site: www.inarte.com.br<p>\n",
        "Email: inarte@gmail.com <p>\n",
        "<p>\n",
        "LEIA COM ATENÇÃO\n",
        "<P>\n",
        "Como o uso da GPU T4 é gratuito, ele tem um limite de uso, portanto procure fazer pausas de 3 a 5 dias quando o limite for atingido e não estiver mais fazendo as transcrições.<p><p>\n",
        "Não Esqueça de Fazer o Donwload do Seu Arquivo Quando Terminar!<p><p>\n",
        "Selecione Uma Instância Com GPU T4 do Lado Direito Superior (Opções Adicionais de Conexão) Antes de Iniciar a Execução dos Códigos.<p>\n",
        "Procure do lado direito superior a seta para baixo e altere o ambiente de execussão com GPU - T4.<p>\n",
        "\n",
        "![t4-a.png](data:image/png;base64,iVBORw0KGgoAAAANSUhEUgAAAMgAAABpCAIAAADwevuCAAAACXBIWXMAABJ0AAASdAHeZh94AAAfD0lEQVR4nO2deXwV1d3/zzkzc+cuc/ebm4UkmKCEsCkICCoYKCqbooiCIlqklmqrj33a51ce7WPd2pel2j62WrHFHyi1FbQiSBGRXRFECGEx7CEh+9232WfOef4YmkYMAbkkQTrvfzJz79x7v+fMZ77ne5bvCZw8eXIoFHI4HMDE5ELA83wwGKR5njdOetoek0sHnufpbv9RCCERMxlBVikKtX8DYx0xVhfnQJAQ0u12mZwBiBDQ1GgsJikqyzl9HjeFMT7bp7pbWBBCRRQc/mCpz6NpWvu3EE1LiXA0loI2BwBntfxiAyIEhFQynhY9gYBFl6IpwePzWy0Uxt/WpwRCqOuaLquUje4/dKiTs2ZCkabGkERBiqIZ2NlN6m5hKemoEOz/xHPPXF/i0xGDACYEGHdFUjGOHHv6F09uPhjO9XLG9QhRusy3hiKSTjzegN/D6bqepQ2IolQ+GUqKOcFcFmEMKaDy4Vja6Q/aKaCfl7ekKBCPxew5xTdf02vPrt1sfp8JQ+3bP9+b1uwuG93+OyFEEKvhcCglKjanNzfgQQRfCA8NGQSi4TBlc+iqgiysKmVYl99Jo/MrEQAQAcxLUkPNIVfZlL+/8ffeDhBdv2zUhJl1haV9XS7GYQVnvhfUZZddpqrqeZfmm6KmY+DyEQ/OvscjNOyurKxrCLU0NzU11Z+obaI434A++Z9+unXPwXqP024UTeXjCdo7bdYDd998LR89ebQx7rBZMNYJgRBC8k8AAMZfCCEAAGNMCGl/AaJojU+FEimWcxIhzRb2u+U71yfqjyUUguWM5imZcmOF3FoTlnQKGB+F36hcYjJm7z3s6V+/+MMH7i5zKocF9vHnXxriSm38bIdO2SjU9m0QYimUVEZPuet790x1q6nqw7UWzk70UwYDQvA/S2QU6avFhAgBQjDGBEIIISAYA4iwxEfD4SR0jJ08yW8FrmCej7WUXjHQwkfCksZQ6Gt1ggE4SxkRQg01J66c/qPfP/PjK/sOuW5EXwoAq4Nx9Rn02A/ua9y1cXcD73ewHWrWYrGgjl7vQiCkoCqLsiokWit3fPrZjp07d+78/POd27btaAwlFVVSFAXRp6yCuhJRbfc99MiNAzx1sue/fv7kuMuYw7XNGqQkPskLiiYLaUlBWGkNR3QApUxSVXUhlRBVrMlCmhdkkc/ImiZLrc1NvvLr5t01IyDGj9Y29bvq2gF5zuZQQpXEDC8Z1Q01JRaLE0SJmURSUE4LATuDkKakMuL2GVNG9DlxsvU7M++5XEit+eTElLkPDO+TF08J7cqPI+H0pLu/P2fiNUdrY/f+x+MPTBhyuPqYqBIsC4k0r+tqJiNCCCLhEK8TVRIyoqLKQlpSgK4k0xlJEFIZgUIklUqpmKTTyUwqThcPmjHnuwGrJmX4qGq5dcatw8r6jh9/+xUuujURF0SJz6REleiKmOJFrCvJNI/PJiw+3uy+cvwvfvaT0TdMmDNnCqWIsVgM55Z9d973R18//sn5j/QCybRyRo/V/cE7AAAAjAFF2zkH1u0WGhCiQ4RY6vSgUOKThUNuGV/k+NUj31/T7Er/9Psq675h6uT7p1RooUO/fWVhUcXMWdf2jQqCHI9Db5FLanzlpf+1ld0wY+I4pxZ+e9WawmsmTR3cSwL62mVLfKNv/MnMUbEjB3NHT7++r7/1ZMTroPtNuXfWzVdvfm9tSyJem1FunvG9KTcMl07u/cviN2oyqstGnVNxIHRb4Il9e4+Gx+XnBmr3fhJnnNNHlrXsXl3XFLfZbG0XIkVM5ZZXVAxa++p///rdXXVJsViCg0bf/NADd7kx//Yff1sX6P/TGbeRdCrBp3nI9ffrf37pz46hUyd/Z4CDslau+v/v7eMfuO/OAIfqdm76cPfxH/3yt4HmI3VU3t13jsPh2npZsdFaIpZKJ2IxQE343n+O4TN/e/3VdHHFtDGDaEVY9/bbfP7w3/5kxkfvv7ts2Qd+v+9MZVIU3MsXdDA6ADRQ4wuf/ulvlu/64ZO/+ensmwAANi6Q57YdVbGd6fjx6+6mUBczONjntlum2mN7l7+3sqYlE420tLQ2HjsR6jN4+NDLvWvXrDlYF3Y7bAAASUr3Lrt2sIvduHmnrzRn3d/ejvabuOChicuefzxeNn5Eeb6/6IpAtPLNncqc265b9OJLA8be4oLK0EnTSpR6vXjU4D6X+XNy5YPrdkTybxjSa/32g2UcWrb8fdeQqxk5fdW4mx1So6f06pxQ1Z83RqdPGqN5fXddf/Xi556wXz/tO+Wej9d/YuVcZ20SIUJQl/lk7ODBA0mN8VLS0j/+7+bjDW5WW/WXt9bv2Mu4XJzNarRuSJZOFlw+ekjO0a3rNVfJwa3vrm31vPz84wdX/fHjsHf6qIFuj6/MT7/0xtrZ37tn79u/qy0eNcgPXPmDijNfLthwfPbMyY0nDnO+oMh6K0aWhePRccOv++QvL30cZ0t9zJK33ps4a65fD4m0U41E80v77Vm1SCgZcY3fWlUb7h1g/f1G9nGKKtf76jzq9T+9odMsTZ/xyeG83upPVu44gb477Qah+pM77/tJfaT144bovAdnORNVd91xx7aEq9Rn7zA87IGmEBAMaAYCjbL6h4wYM/KaYcOHD79m+DVjrh8e9NhkWfmKfRRTHw9zvYMBe2rPl5H7f/SjH08dnmg8/teNu1fsPuS9rNQqtVYd3nusqqZy36FtO3c2Ha935RQWeZhUuPGzdSs/2rqb0jKfV31eXVmTSOsKBpnGpnBC7t3bFzlx4FhrnHLlKNHmXRs+PRyOJ5PpwstKUaRuxedVHx6o8fcutlHKuXRNiS7HRTzq9u8v/tOrd44ewjDWW+b97LmHZn74pz+ke1/35tKXB/kdqYRgCJRYKGdLa461uDAYPLBn1/gZD/3PvPtILLx25cp3P9xKc/mFNnCssnrX/uqDh/cf3vf55toG0UJDKbn/sy3bln1wUmGuvrq/C2T27t8XkqHD526q2rNj8xeHVJ0X0nW1DaIoCpJG0xTDWrVk8sD2bVXHv9SAvaw4KIfqvjx6UrczFpSu/HTHkaNNNhvbSbkSTU3lN8998ZePAQDsfYc+PGeawxV8ZM538wEAnqteeP7FoU41Iipn+ni3DzfQlJZOSRJf2G/kDweNRdDoskCKgnw6I0br2nfOLQ53c9XmDw4Pe/BXvx/RhK8pgs//dtENs3+45LWFtrxea95dnDfqtoDbbXVyXp/H6XR6Ajmh3Ts+2mafUnJFodq0vaVVsXEBt7sZuNycrbWxzjVo2qTbJpQWFGp9ryjIyavGOmu1u/wem4XNzQ9+8LdFwbsfev3VV4NFvT5ZsZhHPts5RPDxllDpuNnPL3guH6Yj8ZSoqharw1vxnZFXBP7rzU29b3liYYC560ePR6Q8JwsxY3e3HP7wwx133zv/l4OOVIzov+TFBWvl2+b//vUEDB775N2j3pJb/D6n3eFxezmO83OcVSP1gj7l3of+ONnGHv7sSJyeNXFYcsfJfLtdA5DzeL05HqaxMZA36+5pNxKi0zTFWlmVQjbO6Xa57JwTqFLpFWV9Ob7OXWBpPIQYu99NW20MxriT8iEIMori8LsAAIAN/L/fLZr1eCZYVGS86+LsEi9SbueZPt7dTSFi7SAZPnbk4L69lR9/tHb9+g0bNmzYsGH9ir///XAajRt11Scfrao62nqqV4hoB5B279ojWPx5JLL0rbf3HDze0tTiLbrs6LY1qzfvUmXxZF2TyCca6o8LohCKhprqjny+qwr4izxIPHroUM2xY02tiVQq0tRU31J7pD4jCaFj6zZW5hWVHNmxcdueg02NDbWtUU3LtIQbG6r3HzjaVFBSvG/9e+9/utcVyEHgrB11Eoulhl9/6+0Th6ciER0imqIhwYKsF7jRms+rHL3HX1uc+mDN+01pzm6BAEAHZ/mycncTTy7Pt33wt6WbKg/UtTQhZ752snL5qo9jon6yoY5XhKb6ky1xUQq37ttdM/z6cTmstmv7lk3rN2/54suMyuZR4saPNxyubTx+oiaiApJsbWpupYGyv7KysbGlvra+sam5prYmnBGS8UTd8cMbd+6z5Balj1du+rSqsbnxaG2toOoU3ZlbYTmuvmpbK/EOzGW2fHKkz+B+AY8bJmpWr/uUJvyCpx7/rBXnu+1n6hXCioqK7pzPgRAhokXDoYyC23XCgSYJPBt47pmft1Rt/MsH2/JyPKeuR4ioUjQaFVXi8gUCbi6TjEWicWTjCnL86XiUWJycVY8nhEAgEI+FodXltpBQS0gClrwcr8ynkd3DAiEtYL/X1drcRHFeG1Qj8RSiaY/Li3UZMzavlYRjaa8vR+YT4WiCdbj9fg8Fzml4SRElb0HpwAF9gCy1NZ0QUbSW2XesIa90QC6M7NqzL6OxDHWqBiDRYtFIWlAdHo/f6yVSqjUU1ShLMC8XZNIpAnJdjnA47vAHYCZyooX8989/xu9f8/xbH/UpL/daUUtLs4IBw9pcVhuvKS6P1wb0UKgFWjgLJJBmsSoji0VVBJs7QNJJEVFOBraGogDRDpeLAbqMod/r0rVORwQhRFiRNRRuOIiKJ3zxxXu5CKS2vTe84s7UFeV5LLKwDoI7/gaHw9HdwjoTEFEqn5Ix9Pj9isBD1O3B3/lCUZTEpyLRBKDpfxmNsU5Z/G5OTEUFYs8N+iwQ6+c1Tgkh0DSdQMRQsJtnuiBEmipKsmb3uq4aNCzodYZqjlUdqBYQZC02hgJnsuciEhYAAEKoKgqG0MYw5ztYfAkCIdA0jUDEUFSPzKEiROma3NzYIEiazesryM2hdL3zbo3D4eihcayOIITQDAPAeU6qXKoQAiiKBgD01Mw8xjpEdEHRZafOz6Yqg29Ni2Py7cIUlkmXYArLpEswhWXSJZjCMukSTGGZdAmmsEy6BFNYJl2CKSyTLoHWNO20bBkTkyzRNI32+/3t186amGSP3W6nFUWRZbmnLekxjNyVTi6AEKJvz1KLiwSapmme5y+S1Q0XECPrJhwOC4Lg9/u9Xm9DQwPHcRRFiaLIMIwkSbm5uaqqMgxjs9nOlNmLEBIEQVVVijq3rAqTf0IjhC69J9IQytixY3v16rVnz55Dhw6NHTs2FAqJoujxeERRDAQC+/fv5zjO6/V2soAWQmi1WhOJhK7r3zTTsENOJQ9erFwo8xBCF9GymQuILMs+n2/27NnpdHrYsGHz58//xS9+sXbt2pMnT06YMKGxsbG8vHzq1Kk+n09V1aamJpbtOK1AUZSCggKbzZZKpbJ0WrquGy4zkUjQna4J7ikwxm63WxRFVVWzl9el5qvaIITwPF9QULB+/foRI0bs2rVLkqSSkpKCgoLRo0cfO3bM6XRijKFO7MjCQspGKJtO2Qjl0CgboCyIYgFlgwzERCcXYCMJQghFUTRNnzWkwxhrmtb9jo0QwjAMdYGWE/bwo4MRsAnElsZJP0UocPbchXOGpmmapsPhsMvlGjlyJMdxZWVlgwcPXrduHc/zJSUlVquVEKIzUGahakO8FWoI0hikLcQrAlYhCg01TXfSkDpjjtM3oC1TvvPLjMbo63eXoqh0Oh2NRmma1nU9NzeXZdlONn2hKCoUCjEM4/V6jd0uKIqKxWKapgWDwQ73vzA0faFaw54UFkbAncBJN/r0Ru7KnZKNxzr9lSIZNyMajSYSCbvdXlhYmEwmw+FwSUmJ8daZvhkhhDGuqalZv379pEmTbDbb0qVLi4uLe/fuvWLFipqamkcffRQhxCpg45UMGG4FKQoQCCwQaARYYCsmQALAAoAGYJIqPtJ9SzfT6XS/fv18Pt+WLVsCgYAhHQhhKpVyuVyPP/54UVHRwYMHFy5cKMuyoiiaprlcLk3TJEkihLAsq6oqxhhCOG/evEgk8te//pXjOEKIpmkzZszgOO7NN990Op3ZqAdCCCFsbGxkWTYnJ6dDmXarsBABAAAjmQ0j4I5iSsW7f+8FQUR/KtIq0L9qjtFru/322/Py8tLp9IoVK3r16jVz5swPPvhA1/VOgh6r1crz/GuvvQYAWLhwoa7rPM9XVVWtXr3aZrNxHPfKK69YLBbkYMc04r2HpF4KbReJYRiFicIgnQa0SmSsFuYShUXgDPE9RVGpVCoSiRh1rWkax3HBYBB885XEEEJd148ePfrwww8PGzZs+fLlLMsamtB1PZVKLViwID8//4UXXnj22WdVVX3sscfGjRvn9/t37tzp8Xj69Onjcrn279/fv3//ZDJ56NChUCgUj8fdbne/fv10Xf/iiy/C4bAoillGeMYjXV9ff9NNN8Xj8V27dhUVFX3dd3aXsCAABDhSGOok5aN0CnpiOtTJxwsDoDcq+0HClcAZz+lpfAghVVVbWloefvjht95668SJE7/61a8qKir+8Y9/iKJot9vP9GuGP2dZ9tRuHxD6fD7jDiGEjL4ehDAl8n7KMwYHdQvWbf9qiE89ADZAQUqTdEEUztRxTiQSo0ePHjp0aENDA8Y4EAiIorhy5UpN077p/VNVNZ1Oz5w584EHHnA4HE888cTrr78uiiLLsoqiFBYWlpWVPfvss8uXL29sbMQYz507d9KkSQih0tJSp9M5derUurq6nJycpqam4uLip556Kjc3FwDw5JNPlpSU2O32P/zhD1ardeDAge+///55D4kb9VldXT19+vQlS5akUqmbbrrpxIkTpaWlp/mtbhIW0gEr4Y0Pu0CLNmlJWnEggsGGV/zgcjT4u/GCOjXci0ZfCxgoilJVtbKy8sCBA+vWrXvwwQcpilq8eDHHcaIonv1HEQIAtPl8CGHbzTbkpWtaazzceUDdpsUO39U0LRKJTJs2zfBSAICXXnopFou53e6zmtceWZZdLtecOXMeeeQR42vnz58/ePDgl19+ubGxUdd1hmFUVY3H4/Pmzbv33nuXL18+depUQkhra+ukSZMSicSmTZuWLl367rvvzp079+mnnx4/frzD4UAIud3uF1544aqrrho3blxNTU1RUZGiKOcdSEEIjx07dueddy5evHjjxo1G32jixIknT54sKChor63u6xVSMgEiBvMda6Y6rHG84WU/uBwNvi9eUNuxqsA/WxOn05mXlxcMBgsLC9PpdEVFxeDBg0VRNN41Qt1QKFRTUxMOhy0WSywWC4VCZ3UYxsdtNpvT6eTOgMvl6jxGDgQCO3bsmDx5cnNzMwDgiSeeeOqpp9xu9zd1VwzDEELef//9BQsWYIxpml61atUrr7ySyWRYlrVYLE1NTRjjadOmvfbaa6lUavLkyYqisCy7f//+N998kxCiKArGuLGxMRaLtYVZCCFJkjKZjKIoxlBclj2+5ubme+65Z/HixVu3bp04ceL06dMxxps3by4rK4tEIu2v7KYUe4KAZkFXfiQc1Sgwz35kmgN44OB5iYI6NVzYsaoMjNiFZdn6+vo1a9YcP34cIbR7925BEBiGAQAQQkRRrKiouPvuu10u16ZNm8aMGTN06NAjR46oqtra2krTNMuy4XA4k8lYrdZkMml0BRBCLMu63W5j2KZDAABOp7PtrnRQLkK8Xm99fX1lZeWePXuWLl1aVFTUoQs0ImtjKP/r0aHR6MdisXfeeWfAgAEcx916663hcNhozY0Jkvr6+rvuumv8+PF5eXmLFy/eu3fvoEGDbDZbY2Oj2+0WBOHIkSNjxoxZu3bttddeG4vFjPjP4XBUV1fn5uZardZ4PO7z+T766KMOg3dCiM1mU1W1k9FgVVX79+8vCMJjjz3m8/lSqZTRyaiqqkomkxaLxbise1PsIWBU4q1X//FjL5jMDviPeNGxs6gKtJuc8Xg8NE0ripJMJr1eb5sj0TRNEIRFixbt378/GAxu2bKlf//+uq4/99xzffv2HThwYGtr6+7du0ePHl1YWLh27dry8vJevXp9+OGHAIDc3FxIQFNzE8uyAANgpPy37UqCgKooeQUFmqZ1PkBKUVQkEuF5vlevXgihDr2Crusul4um6UgkYjwSHRY2EomMGjUqNzd32bJlhYWFbc6Soqjm5uaCgoJhw4YdOnSopqYGY9y3b9/evXtXVVUZI2SSJDkcjkwmY7fbDY+FMaYoSpZlmqaNnjJFUYIgdKgbjLHP5xMEQZblMwmLoqh4PB6NRgsKCowYN5FIRCIR47StKez2TGgIKJXQKtAswCqQtBt1rqpzQdd1WZZ/85vfPPPMM+PHjzd8lcvlevTRR1esWFFcXDxr1qyxY8dOmDBh0aJF/fr1Ky8vN+bdf/3rX/cuLXFiKt4SpVgGAHAqY7ytTgnQNNVTkMPrCp/OZD/yflZhgXbjqJIkndZjgBDyPG+E8xzHQQjT6bSiKB6PR1EUCKHFYhEEgeM4QRAMfRvaYllW13WjH62qKsdxHTbu5yKsNiPbX/D1iK3bM6EJ0BkIIKEVwLsugKoAAEZfz+VyjRs3buTIkStXrszJybnuuus8Hs8777xzxx13TJ8+vbi4WBCEFStWLFq0SJblXbt23XvvvRAAi6CvGWIHw2xApQGEABOgAcBAAACAACAAJKY8w/Q6KnfbLD1CSFEUURSN8dvTSmq329v6woQQjju1BbDVajUOHA6H0aJ9/WsNNTMMcw57aZ+F02TUoQq7exsjAABBUGcu5HyFIayBAwdu3759x44d48aN0zStpaWF53ljynn16tWlpaVXXnnl1q1b8/Pzy8rKlixZEgqFfF6vhaUicR6kIchgkCFAICCDQRqDNAY8Bkn1csVKS7qkKVlO1WOM7XY7RVE8z3fu/BBCPTKZiDF2uVyKomQ/V9gD2xh1BRDCaDTKsqwkSV6vVxRFWZZzcnKM6UJJkhiGkWU5Pz8/kUgYtUYIcbvddifnJZZ4UxhaaEQMR0UAgRgSAAAiUNc1V2EwrvBC1k1h20ycKIoX53ISw9V10lM5dy6u3WayoW3oof1xW1PSdnzaAYTQ7XZTX9tUtw2EkKZpyWQSnMHhnzvGwDoh5Kzz0D1I54N2547D4bg012OdI4SQZDLZefExxhekrgEAbQ3cRbskK3slGN0FXddpo6tyQcwyMTFcss/noxOJxCXQFJpcJBjT8CUlJf+mjaBJ13Fqsr+nzTC5NDGFZdIlmMIy6RJMYV0ACCAqzPa/KF5imMLKFgSgBnEanX3h4b8VprCyRYSKX3PeH56kA0wuYJrRtxxTWNmyzxIZwvf7n9pHGUDx6N93F4zTMIWVFQhAQMUq4tcAvfhyqfAok+hpiy4WTGFlRRpJ+UrBzdExAIBh6YEayvS0RRcLprDOHwRgtaXljsT1tN4HAHBdYhgAF2Lt4iWBKazzBwMCUObW8HjjdHCmX4mSb4ZZBqawzp8QlbohM/TG6BTjlNWuGJMZXEsnetSoiwVTWOdPHc0PEi4HAADIA6ADAIalBwiUGWYB0OO7zXyrGSbn7XEc4a678j9bpjqwfZVvi093DpaKe9quiwLTY50/FEACknmUwohEmPhn3J7jlmYOmzsFA2AKKxswIDRBNOZcKscSi18t4LBVhebe5gCYwsoeDegWwujAnIT+CqawssVCKAigjFQaX6QpEj2CKaysIIB4sQUBKEOZAeaW3f/CFFa2cMQCCZSQwhCzMv+FWRfZwhIGAigjhTaF1Q6zLrICA2LHFgigBBXabArbYQorKwgEFsJQBImUbHqs9ph1kS0WQkOAJCRTpsdqhymsbGGJBQIoQNNjfQWzLrJCB7oF0wAAGWkQmONY/8IUVlZoELPYgoFujryfhimsrNABtmGLDrGZV3gaprCyQoO6hVgwMIV1OqawskIDmCWMDrFqNoVfxRRWVihQt2ALBlgyV8t8FVNYWaEgbCEMgUS+IHuLX0KYwsoKEWiszugQJ2C3bml+8WMKKysUSBhzlV9HmMLKChtBFKBUqNnNYfevYmbpZAUFEEXQjb+79fa+c6iOtHX8+PFnnnmm/SszZsyYNGmScbxw4cLt27d3h6HdjimsrKAARAQF++T37ld6LtcHg8H7778/EAgYpx6PpwuN61FMYWUFjSENqH+8/N6JvIgds/37958xYwYAYNmyZdXV1QCARCLR/vrZs2e3qerSxhRWViAAEUHVWw6sdu8I6q6216urq41/idie8vLyNtkZB5cwZsiZFRRANKFkpNLnUJPz588HAKxevdpwZpc2prCyAhKAAFKhRpOzrPJ78MEHy8vLBUFYuHBh99jWs5jCygoLoChCyVChOq3JYDA4a9YsAMCrr74aCoW6y7qexBTW+aMD7MAsAVimVNTpKr8f/OAHdrv94MGDy5Yt6zbzehYzeD9/MCR2zAIAJCjDTrdLnjJlCgDA4XC88cYbxoHx+ty5c2fOnHn//fd3ua3djims80cHugt77LpdRsq5rEsuLj59h6Ovv3LJYArr/IEAEoCP2k7wUOo8Ree0FjA3N7eiogIAsHnz5tbW1i41sqcwhXX+sISJU5m/+zfbsaXzFJ0XX3yx/enEiRMNYW3atOnrw12XBmbwnhUQQCPFvqcNuei4RP7ZuMlFgqZpDodjwIABpscy6RJMYZl0CaawTLoEU1gmXYIpLJMuwRSWSZdAOxwOnufbZq9MTLJB0zQAgM1m+z/+d6T19zlsxgAAAABJRU5ErkJggg==)\n"
      ],
      "metadata": {
        "id": "_V1wQ9jxEJoZ"
      }
    },
    {
      "cell_type": "markdown",
      "source": [
        "\n",
        "\n"
      ],
      "metadata": {
        "id": "pQipyDzSEiOR"
      }
    },
    {
      "cell_type": "code",
      "execution_count": null,
      "metadata": {
        "id": "L8Tmi8E1317H"
      },
      "outputs": [],
      "source": [
        "# Primeiramente, instale as dependências. Aguarde a instalação completa das dependências até o final da  instalação in formando que foi bem sucedida.\n",
        "!pip install yt-dlp\n",
        "!pip install git+https://github.com/openai/whisper.git\n",
        "!pip install deep-translator langdetect tqdm numpy\n",
        "print(\"Todas as Dependências Foram Instaladas com Sucesso!\")\n",
        "print(\"Pode Executar o Próximo Bloco de Código!\")"
      ]
    },
    {
      "cell_type": "code",
      "source": [
        "# Importe as blibliotecas\n",
        "import subprocess\n",
        "import whisper\n",
        "import os\n",
        "import torch\n",
        "from deep_translator import GoogleTranslator\n",
        "from langdetect import detect\n",
        "import yt_dlp\n",
        "from tqdm import tqdm\n",
        "import numpy as np"
      ],
      "metadata": {
        "id": "BaS23vq_39y7"
      },
      "execution_count": null,
      "outputs": []
    },
    {
      "cell_type": "code",
      "source": [
        "# Função para obter o título do vídeo e o nome do canal usando yt-dlp\n",
        "def get_video_info(url):\n",
        "    ydl_opts = {\n",
        "        'quiet': True,\n",
        "        'skip_download': True,\n",
        "        'force_generic_extractor': True,\n",
        "    }\n",
        "    with yt_dlp.YoutubeDL(ydl_opts) as ydl:\n",
        "        info = ydl.extract_info(url, download=False)\n",
        "        title = info.get('title', 'unknown_title')\n",
        "        channel = info.get('uploader', 'unknown_channel')\n",
        "        video_id = info.get('id', 'unknown_id')\n",
        "        return title, channel, video_id\n",
        "\n",
        "# Função para dividir o texto em partes menores\n",
        "def split_text(text, max_length):\n",
        "    words = text.split(' ')\n",
        "    current_length = 0\n",
        "    current_part = []\n",
        "    parts = []\n",
        "\n",
        "    for word in words:\n",
        "        if current_length + len(word) + 1 > max_length:\n",
        "            parts.append(' '.join(current_part))\n",
        "            current_part = [word]\n",
        "            current_length = len(word) + 1\n",
        "        else:\n",
        "            current_part.append(word)\n",
        "            current_length += len(word) + 1\n",
        "\n",
        "    if current_part:\n",
        "        parts.append(' '.join(current_part))\n",
        "\n",
        "    return parts\n",
        "\n"
      ],
      "metadata": {
        "id": "YbgGik-Q4Ifv"
      },
      "execution_count": null,
      "outputs": []
    },
    {
      "cell_type": "markdown",
      "source": [
        "Cole o link do Video após executar o próximo bloco de comando!"
      ],
      "metadata": {
        "id": "mZ8828U9Ma-U"
      }
    },
    {
      "cell_type": "code",
      "source": [
        "# Solicita o link do vídeo ao usuário\n",
        "video_url = input(\"Cole o link do vídeo: \")"
      ],
      "metadata": {
        "id": "-I69BEb9MYiv"
      },
      "execution_count": null,
      "outputs": []
    },
    {
      "cell_type": "markdown",
      "source": [
        "No final do próximo bloco vai aparecer baixando o modelo Whisper, aguarde o terminio para executar o bloco posterior a ele!!"
      ],
      "metadata": {
        "id": "N7hN4v4KNGGE"
      }
    },
    {
      "cell_type": "code",
      "source": [
        "# Obtém o título, nome do canal e o ID do vídeo\n",
        "video_title, channel_name, video_id = get_video_info(video_url)\n",
        "print(f'Título do vídeo: {video_title}')\n",
        "print(f'Nome do canal: {channel_name}')\n",
        "\n",
        "# Monta a linha de comando como uma lista de argumentos\n",
        "output_template = f\"{video_id}.%(ext)s\"\n",
        "command = ['yt-dlp', '-x', '-f', 'bestaudio', '--audio-format', 'mp3', '-o', output_template, video_url]\n",
        "\n",
        "# Executa a linha de comando para baixar o áudio\n",
        "subprocess.run(command, check=True)\n",
        "\n",
        "# Lista os arquivos no diretório atual para verificar se o arquivo MP3 foi baixado\n",
        "print(\"Arquivos no diretório atual após o download:\")\n",
        "print(os.listdir('.'))\n",
        "\n",
        "# Encontra o arquivo MP3 baixado\n",
        "output_filename = None\n",
        "for file in os.listdir('.'):\n",
        "    if file.startswith(video_id) and file.endswith('.mp3'):\n",
        "        output_filename = file\n",
        "        break\n",
        "\n",
        "# Verifica se o arquivo MP3 foi encontrado\n",
        "if output_filename:\n",
        "    print(f\"Arquivo MP3 encontrado: {output_filename}\")\n",
        "\n",
        "    # Renomeia o arquivo MP3 para incluir o título do vídeo e o nome do canal\n",
        "    safe_video_title = \"\".join([c if c.isalnum() else \"_\" for c in video_title])\n",
        "    safe_channel_name = \"\".join([c if c.isalnum() else \"_\" for c in channel_name])\n",
        "    new_output_filename = f\"{safe_channel_name}_{safe_video_title}.mp3\"\n",
        "    os.rename(output_filename, new_output_filename)\n",
        "    output_filename = new_output_filename\n",
        "\n",
        "    # Carrega o modelo Whisper com suporte a GPU\n",
        "    model = whisper.load_model('medium', device=\"cuda\")\n",
        "    print(\"Aguarde o carregamento total do modelo whisper para dar continuidade na próxima cellula de código!\")\n"
      ],
      "metadata": {
        "id": "NKQyDvpyCuRk"
      },
      "execution_count": null,
      "outputs": []
    },
    {
      "cell_type": "markdown",
      "source": [
        "Neste último bloco de código é onde é feito a transcrição e tradução do texto, isso leva um tempo tenha pasciência!<p>\n",
        "Um texto vai avisar quando estiver terminado!"
      ],
      "metadata": {
        "id": "2-ltXptwNoCc"
      }
    },
    {
      "cell_type": "code",
      "source": [
        "    # Carrega o áudio\n",
        "    audio = whisper.load_audio(output_filename)\n",
        "    sample_rate = whisper.audio.SAMPLE_RATE\n",
        "    duration = len(audio) / sample_rate\n",
        "\n",
        "    # Transcreve o arquivo de áudio em segmentos\n",
        "    segments = np.array_split(audio, int(duration // 30) + 1)\n",
        "\n",
        "    all_text = \"\"\n",
        "\n",
        "    print(\"Transcrevendo áudio...\")\n",
        "    for segment in tqdm(segments, desc=\"Transcrição\", unit=\"segmento\"):\n",
        "        segment_audio = whisper.pad_or_trim(segment)\n",
        "        mel = whisper.log_mel_spectrogram(segment_audio).to(model.device)\n",
        "        options = whisper.DecodingOptions(language=\"en\")\n",
        "        result = whisper.decode(model, mel, options)\n",
        "        all_text += result.text + \" \"\n",
        "\n",
        "    original_text = all_text.strip()\n",
        "    print(\"Transcrição original salva.\")\n",
        "\n",
        "    # Detecta o idioma da transcrição\n",
        "    detected_language = detect(original_text)\n",
        "    print(\"Fazendo tradução...\")\n",
        "\n",
        "    # Define a língua de destino para a tradução\n",
        "    target_language = 'pt' if detected_language == 'en' else 'en'\n",
        "\n",
        "    # Dividir o texto em partes menores para tradução\n",
        "    text_parts = split_text(original_text, 5000)\n",
        "    translated_text = \"\"\n",
        "\n",
        "    # Tradução para o idioma de destino\n",
        "    translator = GoogleTranslator(source=detected_language, target=target_language)\n",
        "    for part in text_parts:\n",
        "        translated_text += translator.translate(part) + \" \"\n",
        "\n",
        "    translated_text = translated_text.strip()\n",
        "\n",
        "    # Cria o diretório \"textos_transcritos\" se não existir\n",
        "    output_dir = \"textos_transcritos\"\n",
        "    os.makedirs(output_dir, exist_ok=True)\n",
        "\n",
        "    # Salva a transcrição em um arquivo com o nome do título do vídeo e do canal\n",
        "    transcribed_filename = os.path.join(output_dir, f\"{safe_channel_name}_{safe_video_title}.txt\")\n",
        "    with open(transcribed_filename, 'w', encoding='utf-8') as f:\n",
        "        f.write(f\"Transcrição original:\\n{original_text}\\n\\n\")\n",
        "        f.write(f\"Transcrição traduzida para {target_language}:\\n{translated_text}\\n\")\n",
        "    print(f\"Trabalho completo. Transcrição salva em: {os.path.abspath(transcribed_filename)}\")\n",
        "    print(\"O Diretório com o arquivo transcrito vai aparecer em instantes do lado esquerdo na pasta textos_transcritos.\")\n",
        "    print(\"Clique no icone de pasta abaixo do icone de chave do lado esquerdo para poder vizualizar a pasta.\")\n",
        "\n",
        "    # Libera a memória da GPU\n",
        "    del model\n",
        "    torch.cuda.empty_cache()\n",
        "else:\n",
        "    print(\"Nenhum arquivo MP3 encontrado.\")"
      ],
      "metadata": {
        "colab": {
          "base_uri": "https://localhost:8080/"
        },
        "id": "f4XCsPJN4yPl",
        "outputId": "815e9182-b07a-4335-8772-716dcf308685"
      },
      "execution_count": null,
      "outputs": [
        {
          "output_type": "stream",
          "name": "stdout",
          "text": [
            "Título do vídeo: 5 Quick Python Projects for Beginners (finish in one day)\n",
            "Nome do canal: Internet Made Coder\n",
            "Arquivos no diretório atual após o download:\n",
            "['.config', 'Internet_Made_Coder_5_Quick_Python_Projects_for_Beginners__finish_in_one_day_.mp3', '4TZ1K8EHT2M.mp3', 'sample_data']\n",
            "Arquivo MP3 encontrado: 4TZ1K8EHT2M.mp3\n"
          ]
        },
        {
          "output_type": "stream",
          "name": "stderr",
          "text": [
            "100%|█████████████████████████████████████| 1.42G/1.42G [00:17<00:00, 85.3MiB/s]\n"
          ]
        },
        {
          "output_type": "stream",
          "name": "stdout",
          "text": [
            "Transcrevendo áudio...\n"
          ]
        },
        {
          "output_type": "stream",
          "name": "stderr",
          "text": [
            "Transcrição: 100%|██████████| 97/97 [08:37<00:00,  5.34s/segmento]\n"
          ]
        },
        {
          "output_type": "stream",
          "name": "stdout",
          "text": [
            "Transcrição original salva.\n",
            "Fazendo tradução...\n",
            "Trabalho completo. Transcrição salva em: /content/textos_transcritos/Internet_Made_Coder_5_Quick_Python_Projects_for_Beginners__finish_in_one_day_.txt\n"
          ]
        }
      ]
    }
  ]
}